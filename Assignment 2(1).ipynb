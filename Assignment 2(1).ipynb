{
 "cells": [
  {
   "cell_type": "markdown",
   "metadata": {
    "tags": []
   },
   "source": [
    "# Assignment 2\n",
    "Let's test your knowledge!"
   ]
  },
  {
   "cell_type": "markdown",
   "metadata": {},
   "source": [
    "**Use <code>for</code>, .split(), and <code>if</code> to create a Statement that will print out words that start with 's':**"
   ]
  },
  {
   "cell_type": "code",
   "execution_count": 1,
   "metadata": {},
   "outputs": [],
   "source": [
    "st = 'Print only the words that start with s in this sentence'"
   ]
  },
  {
   "cell_type": "code",
   "execution_count": 2,
   "metadata": {},
   "outputs": [
    {
     "name": "stdout",
     "output_type": "stream",
     "text": [
      "salma\n",
      "samsung\n",
      "store\n"
     ]
    }
   ],
   "source": [
    "st=\"salma went to samsung store\"\n",
    "for i in st.split():\n",
    "    if i.startswith(\"s\"):\n",
    "        print(i)"
   ]
  },
  {
   "cell_type": "markdown",
   "metadata": {},
   "source": [
    "___\n",
    "**Use a List Comprehension to create a list of all numbers between 1 and 50 that are divisible by 3.**"
   ]
  },
  {
   "cell_type": "code",
   "execution_count": 3,
   "metadata": {},
   "outputs": [
    {
     "name": "stdout",
     "output_type": "stream",
     "text": [
      "[3, 6, 9, 12, 15, 18, 21, 24, 27, 30, 33, 36, 39, 42, 45, 48]\n"
     ]
    }
   ],
   "source": [
    "mylist = [x for x in range(1,51) if x%3==0]\n",
    "print(mylist)"
   ]
  },
  {
   "cell_type": "markdown",
   "metadata": {},
   "source": [
    "_____\n",
    "**Go through the string below and if the length of a word is even print \"even!\"**"
   ]
  },
  {
   "cell_type": "code",
   "execution_count": 9,
   "metadata": {},
   "outputs": [
    {
     "name": "stdout",
     "output_type": "stream",
     "text": [
      "['this', 'is', 'amit']\n"
     ]
    }
   ],
   "source": [
    "st = \"this is amit company for service\"\n",
    "s = st.split(\" \")\n",
    "even=list(filter(lambda x: (len(x)%2==0) , s))\n",
    "print(even)"
   ]
  },
  {
   "cell_type": "code",
   "execution_count": null,
   "metadata": {},
   "outputs": [],
   "source": []
  },
  {
   "cell_type": "markdown",
   "metadata": {},
   "source": [
    "____\n",
    "**Write a program that prints the integers from 1 to 100. But for multiples of three print \"Fizz\" instead of the number, and for the multiples of five print \"Buzz\". For numbers which are multiples of both three and five print \"FizzBuzz\".**"
   ]
  },
  {
   "cell_type": "code",
   "execution_count": 9,
   "metadata": {},
   "outputs": [
    {
     "name": "stdout",
     "output_type": "stream",
     "text": [
      "1\n",
      "2\n",
      "Fizz:3\n",
      "4\n",
      "buzz:5\n",
      "Fizz:6\n",
      "7\n",
      "8\n",
      "Fizz:9\n",
      "buzz:10\n",
      "11\n",
      "Fizz:12\n",
      "13\n",
      "14\n",
      "FizzBuzz:15\n",
      "16\n",
      "17\n",
      "Fizz:18\n",
      "19\n",
      "buzz:20\n",
      "Fizz:21\n",
      "22\n",
      "23\n",
      "Fizz:24\n",
      "buzz:25\n",
      "26\n",
      "Fizz:27\n",
      "28\n",
      "29\n",
      "FizzBuzz:30\n",
      "31\n",
      "32\n",
      "Fizz:33\n",
      "34\n",
      "buzz:35\n",
      "Fizz:36\n",
      "37\n",
      "38\n",
      "Fizz:39\n",
      "buzz:40\n",
      "41\n",
      "Fizz:42\n",
      "43\n",
      "44\n",
      "FizzBuzz:45\n",
      "46\n",
      "47\n",
      "Fizz:48\n",
      "49\n",
      "buzz:50\n",
      "Fizz:51\n",
      "52\n",
      "53\n",
      "Fizz:54\n",
      "buzz:55\n",
      "56\n",
      "Fizz:57\n",
      "58\n",
      "59\n",
      "FizzBuzz:60\n",
      "61\n",
      "62\n",
      "Fizz:63\n",
      "64\n",
      "buzz:65\n",
      "Fizz:66\n",
      "67\n",
      "68\n",
      "Fizz:69\n",
      "buzz:70\n",
      "71\n",
      "Fizz:72\n",
      "73\n",
      "74\n",
      "FizzBuzz:75\n",
      "76\n",
      "77\n",
      "Fizz:78\n",
      "79\n",
      "buzz:80\n",
      "Fizz:81\n",
      "82\n",
      "83\n",
      "Fizz:84\n",
      "buzz:85\n",
      "86\n",
      "Fizz:87\n",
      "88\n",
      "89\n",
      "FizzBuzz:90\n",
      "91\n",
      "92\n",
      "Fizz:93\n",
      "94\n",
      "buzz:95\n",
      "Fizz:96\n",
      "97\n",
      "98\n",
      "Fizz:99\n",
      "buzz:100\n"
     ]
    }
   ],
   "source": [
    "for num in range (1,101):\n",
    "  if num % 3 == 0 and num % 5 == 0:\n",
    "        print(\"FizzBuzz:\" +str(num))\n",
    "  elif num % 3 == 0:\n",
    "        print(\"Fizz:\" +str(num))\n",
    "  elif num % 5 == 0:\n",
    "        print(\"buzz:\" +str(num))\n",
    "  else:\n",
    "    print(num)\n",
    "    "
   ]
  },
  {
   "cell_type": "markdown",
   "metadata": {},
   "source": [
    "____\n",
    "**Use List Comprehension to create a list of the first letters of every word in the string below:**"
   ]
  },
  {
   "cell_type": "code",
   "execution_count": null,
   "metadata": {},
   "outputs": [],
   "source": []
  },
  {
   "cell_type": "code",
   "execution_count": null,
   "metadata": {},
   "outputs": [],
   "source": [
    "string = \"this program \"\n",
    "mylist = [word[0] for word in string.split()]\n",
    "print(mylist)"
   ]
  },
  {
   "cell_type": "markdown",
   "metadata": {},
   "source": [
    "### Great Job!"
   ]
  }
 ],
 "metadata": {
  "kernelspec": {
   "display_name": "Python 3 (ipykernel)",
   "language": "python",
   "name": "python3"
  },
  "language_info": {
   "codemirror_mode": {
    "name": "ipython",
    "version": 3
   },
   "file_extension": ".py",
   "mimetype": "text/x-python",
   "name": "python",
   "nbconvert_exporter": "python",
   "pygments_lexer": "ipython3",
   "version": "3.9.13"
  }
 },
 "nbformat": 4,
 "nbformat_minor": 4
}
